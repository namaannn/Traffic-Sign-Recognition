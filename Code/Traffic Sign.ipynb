{
 "cells": [
  {
   "cell_type": "code",
   "execution_count": 1,
   "metadata": {},
   "outputs": [],
   "source": [
    "import pandas as pd\n",
    "import numpy as np\n",
    "import tensorflow\n",
    "from tensorflow import keras\n",
    "from tensorflow.keras.preprocessing.image import ImageDataGenerator,load_img\n",
    "from glob import glob\n",
    "import matplotlib.pyplot as plt\n",
    "%matplotlib inline\n",
    "import tensorflow.keras.preprocessing\n",
    "from PIL import Image\n",
    "import os"
   ]
  },
  {
   "cell_type": "code",
   "execution_count": 2,
   "metadata": {},
   "outputs": [],
   "source": [
    "data=[]\n",
    "labels=[]\n",
    "classes=43\n",
    "os.chdir('C:\\\\Users\\\\naman\\\\Traffic_Sign_Recognition')\n",
    "cur=os.getcwd()"
   ]
  },
  {
   "cell_type": "code",
   "execution_count": 7,
   "metadata": {},
   "outputs": [],
   "source": [
    "for i in range(classes):\n",
    "    path=os.path.join(cur,'train',str(i))\n",
    "    images=os.listdir(path)\n",
    "    for j in images:\n",
    "        try:\n",
    "            image=Image.open(path +'\\\\' + j)\n",
    "            image=image.resize((30,30))\n",
    "            image=np.array(image)\n",
    "            data.append(image)\n",
    "            labels.append(i)\n",
    "        except Exception as e:\n",
    "            print(e)"
   ]
  },
  {
   "cell_type": "code",
   "execution_count": 10,
   "metadata": {},
   "outputs": [],
   "source": [
    "data=np.array(data)\n",
    "labels=np.array(labels)"
   ]
  },
  {
   "cell_type": "code",
   "execution_count": 11,
   "metadata": {},
   "outputs": [
    {
     "data": {
      "text/plain": [
       "(53566, 30, 30, 3)"
      ]
     },
     "execution_count": 11,
     "metadata": {},
     "output_type": "execute_result"
    }
   ],
   "source": [
    "data.shape"
   ]
  },
  {
   "cell_type": "code",
   "execution_count": 12,
   "metadata": {},
   "outputs": [
    {
     "data": {
      "text/plain": [
       "(53566,)"
      ]
     },
     "execution_count": 12,
     "metadata": {},
     "output_type": "execute_result"
    }
   ],
   "source": [
    "labels.shape"
   ]
  },
  {
   "cell_type": "code",
   "execution_count": 14,
   "metadata": {},
   "outputs": [],
   "source": [
    "from sklearn.model_selection import train_test_split\n",
    "x_train,x_test,y_train,y_test=train_test_split(data,labels,train_size=0.2)\n",
    "from keras.utils import to_categorical\n",
    "y_train=to_categorical(y_train,43)\n",
    "y_test=to_categorical(y_test,43)"
   ]
  },
  {
   "cell_type": "code",
   "execution_count": 15,
   "metadata": {},
   "outputs": [],
   "source": [
    "model=keras.models.Sequential()\n",
    "model.add(keras.layers.Conv2D(filters=32, kernel_size=(5,5), activation='relu', input_shape=x_train.shape[1:]))\n",
    "model.add(keras.layers.Conv2D(filters=32, kernel_size=(5,5), activation='relu'))\n",
    "model.add(keras.layers.MaxPool2D(pool_size=(2,2)))\n",
    "model.add(keras.layers.Dropout(0.2))\n",
    "model.add(keras.layers.Conv2D(filters=64, kernel_size=(3,3), activation='relu'))\n",
    "model.add(keras.layers.Conv2D(filters=64, kernel_size=(3,3), activation='relu'))\n",
    "model.add(keras.layers.MaxPool2D(pool_size=(2,2)))\n",
    "model.add(keras.layers.Dropout(0.2))\n",
    "model.add(keras.layers.Flatten())\n",
    "model.add(keras.layers.Dense(256,activation='relu'))\n",
    "model.add(keras.layers.Dropout(0.4))\n",
    "model.add(keras.layers.Dense(43,activation='softmax'))"
   ]
  },
  {
   "cell_type": "code",
   "execution_count": 16,
   "metadata": {},
   "outputs": [],
   "source": [
    "model.compile(loss='categorical_crossentropy', optimizer='adam', metrics=['accuracy'])"
   ]
  },
  {
   "cell_type": "code",
   "execution_count": 19,
   "metadata": {},
   "outputs": [
    {
     "name": "stdout",
     "output_type": "stream",
     "text": [
      "Epoch 1/17\n",
      "168/168 [==============================] - 186s 1s/step - loss: 0.4573 - accuracy: 0.8760 - val_loss: 0.1434 - val_accuracy: 0.9653\n",
      "Epoch 2/17\n",
      "168/168 [==============================] - 220s 1s/step - loss: 0.3369 - accuracy: 0.9098 - val_loss: 0.1387 - val_accuracy: 0.9690\n",
      "Epoch 3/17\n",
      "168/168 [==============================] - 156s 932ms/step - loss: 0.2785 - accuracy: 0.9226 - val_loss: 0.1608 - val_accuracy: 0.9607\n",
      "Epoch 4/17\n",
      "168/168 [==============================] - 160s 954ms/step - loss: 0.2520 - accuracy: 0.9286 - val_loss: 0.1173 - val_accuracy: 0.9725\n",
      "Epoch 5/17\n",
      "168/168 [==============================] - 157s 937ms/step - loss: 0.1962 - accuracy: 0.9417 - val_loss: 0.1101 - val_accuracy: 0.9723\n",
      "Epoch 6/17\n",
      "168/168 [==============================] - 156s 932ms/step - loss: 0.2094 - accuracy: 0.9420 - val_loss: 0.0821 - val_accuracy: 0.9806\n",
      "Epoch 7/17\n",
      "168/168 [==============================] - 155s 923ms/step - loss: 0.1889 - accuracy: 0.9480 - val_loss: 0.0816 - val_accuracy: 0.9820\n",
      "Epoch 8/17\n",
      "168/168 [==============================] - 156s 933ms/step - loss: 0.1744 - accuracy: 0.9511 - val_loss: 0.0687 - val_accuracy: 0.9833\n",
      "Epoch 9/17\n",
      "168/168 [==============================] - 158s 943ms/step - loss: 0.1330 - accuracy: 0.9647 - val_loss: 0.0662 - val_accuracy: 0.9855\n",
      "Epoch 10/17\n",
      "168/168 [==============================] - 158s 941ms/step - loss: 0.1555 - accuracy: 0.9572 - val_loss: 0.0687 - val_accuracy: 0.9846\n",
      "Epoch 11/17\n",
      "168/168 [==============================] - 156s 928ms/step - loss: 0.1333 - accuracy: 0.9633 - val_loss: 0.0730 - val_accuracy: 0.9841\n",
      "Epoch 12/17\n",
      "168/168 [==============================] - 158s 942ms/step - loss: 0.1677 - accuracy: 0.9532 - val_loss: 0.0690 - val_accuracy: 0.9837\n",
      "Epoch 13/17\n",
      "168/168 [==============================] - 156s 933ms/step - loss: 0.1506 - accuracy: 0.9588 - val_loss: 0.0652 - val_accuracy: 0.9859\n",
      "Epoch 14/17\n",
      "168/168 [==============================] - 157s 936ms/step - loss: 0.1156 - accuracy: 0.9670 - val_loss: 0.0704 - val_accuracy: 0.9832\n",
      "Epoch 15/17\n",
      "168/168 [==============================] - 156s 931ms/step - loss: 0.1192 - accuracy: 0.9659 - val_loss: 0.0480 - val_accuracy: 0.9905\n",
      "Epoch 16/17\n",
      "168/168 [==============================] - 155s 928ms/step - loss: 0.1447 - accuracy: 0.9631 - val_loss: 0.0582 - val_accuracy: 0.9868\n",
      "Epoch 17/17\n",
      "168/168 [==============================] - 157s 939ms/step - loss: 0.1059 - accuracy: 0.9726 - val_loss: 0.0490 - val_accuracy: 0.9896\n"
     ]
    }
   ],
   "source": [
    "model_history=model.fit(x_train,y_train,epochs=17,validation_data=(x_test,y_test),batch_size=64)"
   ]
  },
  {
   "cell_type": "code",
   "execution_count": 20,
   "metadata": {},
   "outputs": [
    {
     "data": {
      "text/plain": [
       "(0.0, 1.0)"
      ]
     },
     "execution_count": 20,
     "metadata": {},
     "output_type": "execute_result"
    },
    {
     "data": {
      "image/png": "[encoded data removed]",
      "text/plain": [
       "<Figure size 432x288 with 1 Axes>"
      ]
     },
     "metadata": {
      "needs_background": "light"
     },
     "output_type": "display_data"
    }
   ],
   "source": [
    "pd.DataFrame(model_history.history).plot()\n",
    "plt.grid(True)\n",
    "plt.gca().set_ylim(0,1)"
   ]
  },
  {
   "cell_type": "code",
   "execution_count": 21,
   "metadata": {},
   "outputs": [],
   "source": [
    "from sklearn.metrics import accuracy_score"
   ]
  },
  {
   "cell_type": "code",
   "execution_count": 22,
   "metadata": {},
   "outputs": [],
   "source": [
    "y_test=pd.read_csv(r'C:\\Users\\naman\\Traffic_Sign_Recognition\\Test.csv')"
   ]
  },
  {
   "cell_type": "code",
   "execution_count": 23,
   "metadata": {},
   "outputs": [],
   "source": [
    "labels = y_test[\"ClassId\"].values\n",
    "imgs = y_test[\"Path\"].values"
   ]
  },
  {
   "cell_type": "code",
   "execution_count": 27,
   "metadata": {},
   "outputs": [
    {
     "name": "stderr",
     "output_type": "stream",
     "text": [
      "C:\\Users\\naman\\anaconda3\\lib\\site-packages\\tensorflow\\python\\keras\\engine\\sequential.py:450: UserWarning: `model.predict_classes()` is deprecated and will be removed after 2021-01-01. Please use instead:* `np.argmax(model.predict(x), axis=-1)`,   if your model does multi-class classification   (e.g. if it uses a `softmax` last-layer activation).* `(model.predict(x) > 0.5).astype(\"int32\")`,   if your model does binary classification   (e.g. if it uses a `sigmoid` last-layer activation).\n",
      "  warnings.warn('`model.predict_classes()` is deprecated and '\n"
     ]
    }
   ],
   "source": [
    "data=[]\n",
    "for img in imgs:\n",
    "    image = Image.open(img)\n",
    "    image = image.resize((30,30))\n",
    "    data.append(np.array(image))\n",
    "X_test=np.array(data)\n",
    "pred = model.predict_classes(X_test)"
   ]
  },
  {
   "cell_type": "code",
   "execution_count": 28,
   "metadata": {},
   "outputs": [
    {
     "name": "stdout",
     "output_type": "stream",
     "text": [
      "0.9589073634204276\n"
     ]
    }
   ],
   "source": [
    "print(accuracy_score(labels, pred))\n",
    "model.save('traffic.h5')"
   ]
  },
  {
   "cell_type": "code",
   "execution_count": 29,
   "metadata": {},
   "outputs": [],
   "source": [
    "from keras.models import load_model"
   ]
  },
  {
   "cell_type": "code",
   "execution_count": 30,
   "metadata": {},
   "outputs": [],
   "source": [
    "model=load_model('traffic.h5')"
   ]
  },
  {
   "cell_type": "code",
   "execution_count": 31,
   "metadata": {},
   "outputs": [],
   "source": [
    "classes = { 0:'Speed limit (20km/h)',\n",
    "            1:'Speed limit (30km/h)', \n",
    "            2:'Speed limit (50km/h)', \n",
    "            3:'Speed limit (60km/h)', \n",
    "            4:'Speed limit (70km/h)', \n",
    "            5:'Speed limit (80km/h)', \n",
    "            6:'End of speed limit (80km/h)', \n",
    "            7:'Speed limit (100km/h)', \n",
    "            8:'Speed limit (120km/h)', \n",
    "            9:'No passing', \n",
    "            10:'No passing veh over 3.5 tons', \n",
    "            11:'Right-of-way at intersection', \n",
    "            12:'Priority road', \n",
    "            13:'Yield', \n",
    "            14:'Stop', \n",
    "            15:'No vehicles', \n",
    "            16:'Veh > 3.5 tons prohibited', \n",
    "            17:'No entry', \n",
    "            18:'General caution', \n",
    "            19:'Dangerous curve left', \n",
    "            20:'Dangerous curve right', \n",
    "            21:'Double curve', \n",
    "            22:'Bumpy road', \n",
    "            23:'Slippery road', \n",
    "            24:'Road narrows on the right', \n",
    "            25:'Road work', \n",
    "            26:'Traffic signals', \n",
    "            27:'Pedestrians', \n",
    "            28:'Children crossing', \n",
    "            29:'Bicycles crossing', \n",
    "            30:'Beware of ice/snow',\n",
    "            31:'Wild animals crossing', \n",
    "            32:'End speed + passing limits', \n",
    "            33:'Turn right ahead', \n",
    "            34:'Turn left ahead', \n",
    "            35:'Ahead only', \n",
    "            36:'Go straight or right', \n",
    "            37:'Go straight or left', \n",
    "            38:'Keep right', \n",
    "            39:'Keep left', \n",
    "            40:'Roundabout mandatory', \n",
    "            41:'End of no passing', \n",
    "            42:'End no passing veh > 3.5 tons' }"
   ]
  },
  {
   "cell_type": "code",
   "execution_count": 32,
   "metadata": {},
   "outputs": [],
   "source": [
    "def test_img(img):\n",
    "    data=[]\n",
    "    image = Image.open(img)\n",
    "    image = image.resize((30,30))\n",
    "    data.append(np.array(image))\n",
    "    X_test=np.array(data)\n",
    "    Y_pred = model.predict_classes(X_test)\n",
    "    return image,Y_pred"
   ]
  },
  {
   "cell_type": "code",
   "execution_count": 34,
   "metadata": {},
   "outputs": [
    {
     "name": "stdout",
     "output_type": "stream",
     "text": [
      "Predicted traffic sign is:  Speed limit (50km/h)\n"
     ]
    },
    {
     "data": {
      "text/plain": [
       "<matplotlib.image.AxesImage at 0x2441b3446a0>"
      ]
     },
     "execution_count": 34,
     "metadata": {},
     "output_type": "execute_result"
    },
    {
     "data": {
      "image/png": "[encoded data removed]",
      "text/plain": [
       "<Figure size 432x288 with 1 Axes>"
      ]
     },
     "metadata": {
      "needs_background": "light"
     },
     "output_type": "display_data"
    }
   ],
   "source": [
    "plot,prediction = test_img(r'C:\\Users\\naman\\Traffic_Sign_Recognition\\test\\00124.png')\n",
    "s = [str(i) for i in prediction] \n",
    "a = int(\"\".join(s)) \n",
    "print(\"Predicted traffic sign is: \", classes[a])\n",
    "plt.imshow(plot)"
   ]
  },
  {
   "cell_type": "code",
   "execution_count": null,
   "metadata": {},
   "outputs": [],
   "source": []
  }
 ],
 "metadata": {
  "kernelspec": {
   "display_name": "Python 3",
   "language": "python",
   "name": "python3"
  },
  "language_info": {
   "codemirror_mode": {
    "name": "ipython",
    "version": 3
   },
   "file_extension": ".py",
   "mimetype": "text/x-python",
   "name": "python",
   "nbconvert_exporter": "python",
   "pygments_lexer": "ipython3",
   "version": "3.8.3"
  }
 },
 "nbformat": 4,
 "nbformat_minor": 4
}
